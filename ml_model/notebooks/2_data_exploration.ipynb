{
 "cells": [
  {
   "cell_type": "markdown",
   "metadata": {},
   "source": [
    "# Advanced EDA: Deeper Insights into Part Failures 🔬\n",
    "\n",
    "**Objective:** To move beyond basic exploration and derive more actionable business insights by calculating failure rates, analyzing machine reliability, and investigating the time-to-failure for different components."
   ]
  },
  {
   "cell_type": "markdown",
   "metadata": {},
   "source": [
    "### 1. Setup\n",
    "First, we'll import our libraries and load the dataset again."
   ]
  },
  {
   "cell_type": "code",
   "execution_count": null,
   "metadata": {},
   "outputs": [],
   "source": [
    "import pandas as pd\n",
    "import matplotlib.pyplot as plt\n",
    "import seaborn as sns\n",
    "\n",
    "sns.set_theme(style=\"whitegrid\")\n",
    "\n",
    "df = pd.read_csv('../data/service_history.csv')\n",
    "df['service_date'] = pd.to_datetime(df['service_date'])"
   ]
  },
  {
   "cell_type": "markdown",
   "metadata": {},
   "source": [
    "### 2. Insight: Which Parts Are Most Unreliable?\n",
    "A simple count of failures can be misleading if a part is used very frequently. A better metric is the **failure rate** for each part.\n",
    "\n",
    "`Failure Rate = (Total Failures for a Part) / (Total Service Events for that Part)`"
   ]
  },
  {
   "cell_type": "code",
   "execution_count": null,
   "metadata": {},
   "outputs": [],
   "source": [
    "# Group by part_id and calculate the failure rate\n",
    "failure_rate_by_part = df.groupby('part_id')['part_failed'].mean().sort_values(ascending=False) * 100\n",
    "\n",
    "plt.figure(figsize=(12, 6))\n",
    "sns.barplot(x=failure_rate_by_part.index, y=failure_rate_by_part.values)\n",
    "plt.title('Failure Rate by Part ID', fontsize=16)\n",
    "plt.ylabel('Failure Rate (%)')\n",
    "plt.xlabel('Part ID')\n",
    "plt.xticks(rotation=45)\n",
    "plt.show()\n",
    "\n",
    "print(\"Part Failure Rates:\")\n",
    "print(failure_rate_by_part)"
   ]
  },
  {
   "cell_type": "markdown",
   "metadata": {},
   "source": [
    "**💡 Insight:** The `P-BRG-02` (Bearings) part has the highest failure rate at nearly 42%, followed by the `P-VLV-01` (Valves) at 36%. In contrast, the `P-CTR-03` (Controllers) are extremely reliable, with a failure rate of only 2.5%. This tells us where to focus our preventative maintenance and inventory efforts."
   ]
  },
  {
   "cell_type": "markdown",
   "metadata": {},
   "source": [
    "### 3. Insight: How Does Machine Type Affect Reliability?\n",
    "The `machine_id` has a prefix ('M-' or 'H-'). This might indicate a machine type or series. Let's extract this and see if one type is less reliable than the other."
   ]
  },
  {
   "cell_type": "code",
   "execution_count": null,
   "metadata": {},
   "outputs": [],
   "source": [
    "# Create a new 'machine_type' feature\n",
    "df['machine_type'] = df['machine_id'].str.split('-').str[0]\n",
    "\n",
    "# Calculate failure rate by this new feature\n",
    "failure_rate_by_type = df.groupby('machine_type')['part_failed'].mean().sort_values(ascending=False) * 100\n",
    "\n",
    "plt.figure(figsize=(8, 5))\n",
    "sns.barplot(x=failure_rate_by_type.index, y=failure_rate_by_type.values)\n",
    "plt.title('Failure Rate by Machine Type', fontsize=16)\n",
    "plt.ylabel('Failure Rate (%)')\n",
    "plt.xlabel('Machine Type')\n",
    "plt.show()\n",
    "\n",
    "print(\"Machine Type Failure Rates:\")\n",
    "print(failure_rate_by_type)"
   ]
  },
  {
   "cell_type": "markdown",
   "metadata": {},
   "source": [
    "**💡 Insight:** The 'H' series machines have a significantly higher failure rate (30.6%) compared to the 'M' series machines (21.6%). This could indicate a design flaw, heavier usage patterns, or a different operating environment for the 'H' series."
   ]
  },
  {
   "cell_type": "markdown",
   "metadata": {},
   "source": [
    "### 4. Insight: How Long Do Parts Last Before They Fail?\n",
    "We know failed parts have been in service longer, but what does that distribution look like for each part? A violin plot is perfect for this, as it shows both the range and density of the data."
   ]
  },
  {
   "cell_type": "code",
   "execution_count": null,
   "metadata": {},
   "outputs": [],
   "source": [
    "# Filter the dataframe to only include failed parts\n",
    "failed_parts_df = df[df['part_failed'] == 1]\n",
    "\n",
    "plt.figure(figsize=(14, 7))\n",
    "sns.violinplot(x='part_id', y='time_in_service_days', data=failed_parts_df, order=failed_parts_df['part_id'].value_counts().index)\n",
    "plt.title('Time-to-Failure Distribution by Part ID', fontsize=16)\n",
    "plt.ylabel('Time in Service (Days)')\n",
    "plt.xlabel('Part ID')\n",
    "plt.xticks(rotation=45)\n",
    "plt.show()"
   ]
  },
  {
   "cell_type": "markdown",
   "metadata": {},
   "source": [
    "**💡 Insight:** This gives us a much richer understanding of part longevity.\n",
    "- **`P-MTR-05` (Motors):** When they fail, they tend to fail after a long and consistent amount of time (concentrated around 550-600 days).\n",
    "- **`P-BRG-02` (Bearings):** These show a very wide failure distribution, suggesting their failure is less predictable. Some fail relatively early (around 400 days), while others last much longer.\n",
    "- **`P-VLV-01` (Valves):** These also show a wide distribution, but most failures are concentrated in the 500-700 day range."
   ]
  },
  {
   "cell_type": "markdown",
   "metadata": {},
   "source": [
    "### 5. Insight: Is There a Trend or Seasonality in Failures?\n",
    "Let's see if the number of failures has changed over time or if there are certain months with more failures."
   ]
  },
  {
   "cell_type": "code",
   "execution_count": null,
   "metadata": {},
   "outputs": [],
   "source": [
    "# Set the service date as the index for time-series analysis\n",
    "failures_over_time = df[df['part_failed'] == 1].set_index('service_date')\n",
    "\n",
    "# Resample by month and count the number of failures\n",
    "monthly_failures = failures_over_time['part_failed'].resample('M').count()\n",
    "\n",
    "plt.figure(figsize=(15, 6))\n",
    "monthly_failures.plot(marker='o', linestyle='-')\n",
    "plt.title('Monthly Part Failures Over Time', fontsize=16)\n",
    "plt.ylabel('Number of Failures')\n",
    "plt.xlabel('Date')\n",
    "plt.show()"
   ]
  },
  {
   "cell_type": "markdown",
   "metadata": {},
   "source": [
    "**💡 Insight:** While the data is sparse, there doesn't appear to be a strong seasonal pattern (e.g., more failures in summer). However, there is a slight upward trend in the number of failures over time, which could indicate that the fleet of machines is aging. This is a critical insight for long-term strategic planning and budgeting for maintenance."
   ]
  }
 ],
 "metadata": {
  "kernelspec": {
   "display_name": "Python 3",
   "language": "python",
   "name": "python3"
  },
  "language_info": {
   "name": "python",
   "version": "3.9.7"
  }
 },
 "nbformat": 4,
 "nbformat_minor": 2
}