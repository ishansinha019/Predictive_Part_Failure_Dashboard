{
 "cells": [
  {
   "cell_type": "markdown",
   "metadata": {},
   "source": [
    "# Part Failure Prediction: Data Exploration 探索\n",
    "\n",
    "**Objective:** To understand the dataset, identify patterns, and check for issues like missing values or class imbalance before building the model."
   ]
  },
  {
   "cell_type": "markdown",
   "metadata": {},
   "source": [
    "### 1. Import Libraries and Load Data"
   ]
  },
  {
   "cell_type": "code",
   "execution_count": null,
   "metadata": {},
   "outputs": [],
   "source": [
    "import pandas as pd\n",
    "import matplotlib.pyplot as plt\n",
    "import seaborn as sns\n",
    "\n",
    "# Set plot style\n",
    "sns.set_style('whitegrid')\n",
    "\n",
    "# Load the dataset\n",
    "df = pd.read_csv('../data/service_history.csv')"
   ]
  },
  {
   "cell_type": "markdown",
   "metadata": {},
   "source": [
    "### 2. Initial Data Inspection"
   ]
  },
  {
   "cell_type": "code",
   "execution_count": null,
   "metadata": {},
   "outputs": [],
   "source": [
    "print(\"First 5 rows of the dataset:\")\n",
    "display(df.head())\n",
    "\n",
    "print(\"\\nDataset Information:\")\n",
    "df.info()\n",
    "\n",
    "print(\"\\nNumerical Summary:\")\n",
    "display(df.describe())"
   ]
  },
  {
   "cell_type": "markdown",
   "metadata": {},
   "source": [
    "### 3. Check Target Variable Distribution (Class Imbalance)"
   ]
  },
  {
   "cell_type": "code",
   "execution_count": null,
   "metadata": {},
   "outputs": [],
   "source": [
    "plt.figure(figsize=(8, 5))\n",
    "sns.countplot(x='part_failed', data=df)\n",
    "plt.title('Distribution of Target Variable (part_failed)')\n",
    "plt.xlabel('Part Failed (0 = No, 1 = Yes)')\n",
    "plt.ylabel('Count')\n",
    "plt.show()\n",
    "\n",
    "failure_rate = df['part_failed'].value_counts(normalize=True) * 100\n",
    "print(f\"Failure Rate:\\n{failure_rate}\")"
   ]
  },
  {
   "cell_type": "markdown",
   "metadata": {},
   "source": [
    "**Observation:** The dataset is imbalanced. Failures (Class 1) make up about 25% of the data. This is important to consider during model training."
   ]
  },
  {
   "cell_type": "markdown",
   "metadata": {},
   "source": [
    "### 4. Analyze Feature Relationships"
   ]
  },
  {
   "cell_type": "code",
   "execution_count": null,
   "metadata": {},
   "outputs": [],
   "source": [
    "# Time in Service vs. Failure\n",
    "plt.figure(figsize=(10, 6))\n",
    "sns.boxplot(x='part_failed', y='time_in_service_days', data=df)\n",
    "plt.title('Time in Service vs. Part Failure')\n",
    "plt.xlabel('Part Failed (0 = No, 1 = Yes)')\n",
    "plt.ylabel('Time in Service (Days)')\n",
    "plt.show()"
   ]
  },
  {
   "cell_type": "markdown",
   "metadata": {},
   "source": [
    "**Observation:** As expected, parts that failed have a significantly higher median `time_in_service_days`."
   ]
  },
  {
   "cell_type": "code",
   "execution_count": null,
   "metadata": {},
   "outputs": [],
   "source": [
    "# Service Type vs. Failure\n",
    "plt.figure(figsize=(12, 6))\n",
    "sns.countplot(x='service_type', hue='part_failed', data=df)\n",
    "plt.title('Service Type Distribution by Failure Status')\n",
    "plt.xlabel('Type of Service')\n",
    "plt.ylabel('Count')\n",
    "plt.xticks(rotation=45)\n",
    "plt.show()"
   ]
  },
  {
   "cell_type": "markdown",
   "metadata": {},
   "source": [
    "**Observation:** 'Replacement' and 'Repair' service types are exclusively associated with part failures, while 'Routine Check' is associated with non-failures. This is a very strong predictor."
   ]
  },
  {
   "cell_type": "code",
   "execution_count": null,
   "metadata": {},
   "outputs": [],
   "source": [
    "# Part ID vs. Failure\n",
    "plt.figure(figsize=(12, 6))\n",
    "sns.countplot(x='part_id', hue='part_failed', data=df, order=df['part_id'].value_counts().index)\n",
    "plt.title('Part ID Distribution by Failure Status')\n",
    "plt.xlabel('Part ID')\n",
    "plt.ylabel('Count')\n",
    "plt.xticks(rotation=45)\n",
    "plt.show()"
   ]
  },
  {
   "cell_type": "markdown",
   "metadata": {},
   "source": [
    "**Observation:** Some parts, like `P-BRG-02`, appear to have a higher failure rate than others."
   ]
  }
 ],
 "metadata": {
  "kernelspec": {
   "display_name": "Python 3",
   "language": "python",
   "name": "python3"
  },
  "language_info": {
   "name": "python",
   "version": "3.9.7"
  }
 },
 "nbformat": 4,
 "nbformat_minor": 2
}